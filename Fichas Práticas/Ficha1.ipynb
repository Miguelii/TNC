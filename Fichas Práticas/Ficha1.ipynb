{
 "cells": [
  {
   "cell_type": "markdown",
   "metadata": {},
   "source": [
    "# exercício 1"
   ]
  },
  {
   "cell_type": "markdown",
   "metadata": {},
   "source": [
    "Seja $n=2^{512}+1$.\n",
    "\n",
    "(a) Considere $a=2$. Verifique se a tese do PTF é satisfeita.\n",
    "\n",
    "(b) Procure outros exemplos de bases que verifiquem a tese do teorema.\n",
    "\n",
    "(c) Mostre, usando o PTF, que o número $n$ não é primo"
   ]
  },
  {
   "cell_type": "markdown",
   "metadata": {},
   "source": [
    "##### PTF\n",
    "n primo, 1<a<n e (a,n)=1, então $a^{n-1}\\equiv 1\\ (\\!\\!\\!\\!\\mod n)$\n",
    "\n",
    "Se (a,n)=1, 1<a<n e $a^{n-1}\\not\\equiv 1\\ (\\!\\!\\!\\!\\mod n)$, então n não é primo"
   ]
  },
  {
   "cell_type": "markdown",
   "metadata": {},
   "source": [
    "### a)"
   ]
  },
  {
   "cell_type": "code",
   "execution_count": 2,
   "metadata": {},
   "outputs": [
    {
     "data": {
      "text/plain": [
       "13407807929942597099574024998205846127479365820592393377723561443721764030073546976801874298166903427690031858186486050853753882811946569946433649006084097"
      ]
     },
     "execution_count": 2,
     "metadata": {},
     "output_type": "execute_result"
    }
   ],
   "source": [
    "n=2^512+1\n",
    "n"
   ]
  },
  {
   "cell_type": "code",
   "execution_count": 3,
   "metadata": {},
   "outputs": [
    {
     "data": {
      "text/plain": [
       "False"
      ]
     },
     "execution_count": 3,
     "metadata": {},
     "output_type": "execute_result"
    }
   ],
   "source": [
    "n.is_prime()"
   ]
  },
  {
   "cell_type": "code",
   "execution_count": 4,
   "metadata": {},
   "outputs": [
    {
     "data": {
      "text/plain": [
       "Ring of integers modulo 13407807929942597099574024998205846127479365820592393377723561443721764030073546976801874298166903427690031858186486050853753882811946569946433649006084097"
      ]
     },
     "execution_count": 4,
     "metadata": {},
     "output_type": "execute_result"
    }
   ],
   "source": [
    "Zn=IntegerModRing(n)\n",
    "Zn"
   ]
  },
  {
   "cell_type": "code",
   "execution_count": 5,
   "metadata": {},
   "outputs": [
    {
     "data": {
      "text/plain": [
       "1"
      ]
     },
     "execution_count": 5,
     "metadata": {},
     "output_type": "execute_result"
    }
   ],
   "source": [
    "a=2\n",
    "gcd(a,n)"
   ]
  },
  {
   "cell_type": "markdown",
   "metadata": {},
   "source": [
    "Pretendemos verificar que $a^{n-1}$ é congruente com $1$ módulo $n$"
   ]
  },
  {
   "cell_type": "code",
   "execution_count": 7,
   "metadata": {},
   "outputs": [
    {
     "data": {
      "text/plain": [
       "1"
      ]
     },
     "execution_count": 7,
     "metadata": {},
     "output_type": "execute_result"
    }
   ],
   "source": [
    "a=Zn(2)\n",
    "mod(a^(n-1),n)"
   ]
  },
  {
   "cell_type": "markdown",
   "metadata": {},
   "source": [
    "### b)"
   ]
  },
  {
   "cell_type": "markdown",
   "metadata": {},
   "source": [
    "Pretendemos encontrar outros valores de $n$ tais que $(2,n)=1$ e tais que $2^{n-1}$ seja congruente com $1$ módulo $n$.\n",
    "\n",
    "É claro que se $n$ for primo, então vai satisfazer a tese do PTF.\n",
    "\n",
    "Procuremos, então, $n$ não primo."
   ]
  },
  {
   "cell_type": "code",
   "execution_count": 8,
   "metadata": {},
   "outputs": [
    {
     "data": {
      "text/plain": [
       "[341, 561, 645]"
      ]
     },
     "execution_count": 8,
     "metadata": {},
     "output_type": "execute_result"
    }
   ],
   "source": [
    "L=[n for n in range(1,1000) if gcd(2,n)==1 and not is_prime(n) and power_mod(2,n-1,n)==1]\n",
    "L"
   ]
  },
  {
   "cell_type": "code",
   "execution_count": 12,
   "metadata": {},
   "outputs": [
    {
     "data": {
      "text/plain": [
       "1"
      ]
     },
     "execution_count": 12,
     "metadata": {},
     "output_type": "execute_result"
    }
   ],
   "source": [
    "Zp=IntegerModRing(561)\n",
    "gcd(2,561)"
   ]
  },
  {
   "cell_type": "code",
   "execution_count": 13,
   "metadata": {},
   "outputs": [
    {
     "data": {
      "text/plain": [
       "1"
      ]
     },
     "execution_count": 13,
     "metadata": {},
     "output_type": "execute_result"
    }
   ],
   "source": [
    "power_mod(2,560,561)"
   ]
  },
  {
   "cell_type": "markdown",
   "metadata": {},
   "source": [
    "## alternativa"
   ]
  },
  {
   "cell_type": "code",
   "execution_count": 17,
   "metadata": {},
   "outputs": [],
   "source": [
    "def sat_tese_PTF(k, a=2):\n",
    "    L=[n for n in range(1,k) if gcd(a,n)==1 and not is_prime(n) and power_mod(a,n-1,n)==1]\n",
    "    return L"
   ]
  },
  {
   "cell_type": "code",
   "execution_count": 16,
   "metadata": {},
   "outputs": [
    {
     "data": {
      "text/plain": [
       "[341, 561, 645]"
      ]
     },
     "execution_count": 16,
     "metadata": {},
     "output_type": "execute_result"
    }
   ],
   "source": [
    "sat_tese_PTF(1000)"
   ]
  },
  {
   "cell_type": "code",
   "execution_count": 18,
   "metadata": {},
   "outputs": [
    {
     "data": {
      "text/plain": [
       "[91, 121, 286, 671, 703, 949, 1105, 1541, 1729, 1891, 2465, 2665, 2701, 2821]"
      ]
     },
     "execution_count": 18,
     "metadata": {},
     "output_type": "execute_result"
    }
   ],
   "source": [
    "sat_tese_PTF(3000,3)"
   ]
  },
  {
   "cell_type": "markdown",
   "metadata": {},
   "source": [
    "### c)"
   ]
  },
  {
   "cell_type": "markdown",
   "metadata": {},
   "source": [
    "Pretendemos encontrar um valor de $a$ tal que $1$<$a$<$n$ e $(a,n)=1$, mas que seja tal que $a^{n-1}\\not\\equiv 1\\ (\\!\\!\\!\\!\\mod n)$.\n",
    "\n",
    "Deste modo podemos concluir que $n$ não é primo."
   ]
  },
  {
   "cell_type": "code",
   "execution_count": 20,
   "metadata": {},
   "outputs": [
    {
     "name": "stdout",
     "output_type": "stream",
     "text": [
      "3\n",
      "5\n",
      "6\n",
      "7\n",
      "9\n",
      "10\n",
      "11\n",
      "12\n",
      "13\n",
      "14\n",
      "15\n",
      "17\n",
      "18\n",
      "19\n"
     ]
    }
   ],
   "source": [
    "for a in range(20):\n",
    "    if gcd(a,n)==1 and not power_mod(a,n-1,n)==1:\n",
    "        print(a)"
   ]
  },
  {
   "cell_type": "markdown",
   "metadata": {},
   "source": [
    "Como encontramos valores para a nestas condições, podemos concluir que n=2^512+1 não é primo"
   ]
  },
  {
   "cell_type": "markdown",
   "metadata": {},
   "source": [
    "# exercício 2"
   ]
  },
  {
   "cell_type": "markdown",
   "metadata": {},
   "source": [
    "Conjetura dos primos gémeos: Existe uma infinidade de pares de primos gémeos.\n",
    "\n",
    "Escreva uma função que encontre os primos gémeos inferiores a um certo argumento."
   ]
  },
  {
   "cell_type": "markdown",
   "metadata": {},
   "source": [
    "Nota\n",
    "\n",
    "Primos gémeos são primos que distam 2 unidades um do outro (são pares de primos $p$ e $p+2$).\n",
    "\n",
    "Primos primos são primos que distam 4 unidades um do outro (são pares de primos $p$ e $p+4$).\n",
    "\n",
    "Primos sexy são números primos que distam um do outro $6$ unidades (são pares de primos $p$ e $p+6$).\n"
   ]
  },
  {
   "cell_type": "code",
   "execution_count": 23,
   "metadata": {},
   "outputs": [],
   "source": [
    "def primos_gemeos(n):     # p+2<n\n",
    "    L=[(p,p+2) for p in prime_range(n-2) if is_prime(p+2)]\n",
    "    return L"
   ]
  },
  {
   "cell_type": "code",
   "execution_count": 24,
   "metadata": {},
   "outputs": [
    {
     "data": {
      "text/plain": [
       "[]"
      ]
     },
     "execution_count": 24,
     "metadata": {},
     "output_type": "execute_result"
    }
   ],
   "source": [
    "primos_gemeos(5)"
   ]
  },
  {
   "cell_type": "code",
   "execution_count": 25,
   "metadata": {},
   "outputs": [
    {
     "data": {
      "text/plain": [
       "[(3, 5), (5, 7)]"
      ]
     },
     "execution_count": 25,
     "metadata": {},
     "output_type": "execute_result"
    }
   ],
   "source": [
    "primos_gemeos(12)"
   ]
  },
  {
   "cell_type": "markdown",
   "metadata": {},
   "source": [
    "## alternativas"
   ]
  },
  {
   "cell_type": "code",
   "execution_count": 26,
   "metadata": {},
   "outputs": [
    {
     "data": {
      "text/plain": [
       "Set of all prime numbers: 2, 3, 5, 7, ..."
      ]
     },
     "execution_count": 26,
     "metadata": {},
     "output_type": "execute_result"
    }
   ],
   "source": [
    "P=Primes()\n",
    "P"
   ]
  },
  {
   "cell_type": "code",
   "execution_count": 27,
   "metadata": {},
   "outputs": [],
   "source": [
    "def primos_gemeos1(n):\n",
    "    L=[]\n",
    "    for k in range(1,n-2,2):\n",
    "        if k in Primes() and k+2 in Primes():\n",
    "            L.append((k,k+2))\n",
    "    return L"
   ]
  },
  {
   "cell_type": "code",
   "execution_count": 28,
   "metadata": {},
   "outputs": [
    {
     "data": {
      "text/plain": [
       "[(3, 5), (5, 7), (11, 13), (17, 19), (29, 31), (41, 43)]"
      ]
     },
     "execution_count": 28,
     "metadata": {},
     "output_type": "execute_result"
    }
   ],
   "source": [
    "primos_gemeos1(50)"
   ]
  },
  {
   "cell_type": "markdown",
   "metadata": {},
   "source": [
    "## OBS.:"
   ]
  },
  {
   "cell_type": "markdown",
   "metadata": {},
   "source": [
    "Podemos pensar no problema de definir uma função que liste os pares de primos $(p,p+k)$, com $k\\geq 2$, inferiores a um natural $n$"
   ]
  },
  {
   "cell_type": "code",
   "execution_count": 33,
   "metadata": {},
   "outputs": [],
   "source": [
    "def primos_gapk(n,k=2):\n",
    "    L=[]\n",
    "    for i in range(1,n):\n",
    "        if i in Primes() and i+k in Primes() and i+k<n:\n",
    "            L.append((i,i+k))\n",
    "    return L"
   ]
  },
  {
   "cell_type": "code",
   "execution_count": 34,
   "metadata": {},
   "outputs": [
    {
     "data": {
      "text/plain": [
       "[(3, 5), (5, 7), (11, 13), (17, 19), (29, 31), (41, 43), (59, 61), (71, 73)]"
      ]
     },
     "execution_count": 34,
     "metadata": {},
     "output_type": "execute_result"
    }
   ],
   "source": [
    "primos_gapk(100)    # pares de primos gémeos inferiores a 100"
   ]
  },
  {
   "cell_type": "code",
   "execution_count": 35,
   "metadata": {},
   "outputs": [
    {
     "data": {
      "text/plain": [
       "[(3, 7), (7, 11), (13, 17), (19, 23), (37, 41), (43, 47), (67, 71), (79, 83)]"
      ]
     },
     "execution_count": 35,
     "metadata": {},
     "output_type": "execute_result"
    }
   ],
   "source": [
    "primos_gapk(100,4)   # pares de primos primos inferiores a 100"
   ]
  },
  {
   "cell_type": "code",
   "execution_count": 36,
   "metadata": {},
   "outputs": [
    {
     "data": {
      "text/plain": [
       "[(5, 11),\n",
       " (7, 13),\n",
       " (11, 17),\n",
       " (13, 19),\n",
       " (17, 23),\n",
       " (23, 29),\n",
       " (31, 37),\n",
       " (37, 43),\n",
       " (41, 47),\n",
       " (47, 53),\n",
       " (53, 59),\n",
       " (61, 67),\n",
       " (67, 73),\n",
       " (73, 79),\n",
       " (83, 89)]"
      ]
     },
     "execution_count": 36,
     "metadata": {},
     "output_type": "execute_result"
    }
   ],
   "source": [
    "primos_gapk(100,6)    # primos sexy inferiores a 100"
   ]
  },
  {
   "cell_type": "markdown",
   "metadata": {},
   "source": [
    "# exercício 3"
   ]
  },
  {
   "cell_type": "markdown",
   "metadata": {},
   "source": [
    "Conjetura de Goldbach: Todo o natural par maior que $3$ pode-se escrever como a soma de dois números primos."
   ]
  },
  {
   "cell_type": "markdown",
   "metadata": {},
   "source": [
    "Ideia:\n",
    "\n",
    "$n$ par:   para $n$ se escrever como a soma de dois primos $p$ e $q$, temos $n=p+q$, donde $q=n-p$\n",
    "\n",
    "Pretendemos pois definir uma função que, dado um argumento $n$, se $n$ for par, devolva $n=p+(n-p)$ com $p$ e $n-p$ primos.\n",
    "\n",
    "Note-se que só é necessário procurar esse primo $p$ em $\\{2,\\ldots, \\frac{n}{2}\\}$"
   ]
  },
  {
   "cell_type": "code",
   "execution_count": 37,
   "metadata": {},
   "outputs": [],
   "source": [
    "def goldbach(n):\n",
    "    if is_even(n) and n>3:\n",
    "        p=2\n",
    "        while not (p in Primes() and n-p in Primes()):\n",
    "            p+=1\n",
    "        print(n,\"=\",p,\"+\",n-p)\n",
    "    else:\n",
    "        print(n,\"não é um par maior que 3\")"
   ]
  },
  {
   "cell_type": "code",
   "execution_count": 38,
   "metadata": {},
   "outputs": [
    {
     "name": "stdout",
     "output_type": "stream",
     "text": [
      "100 = 3 + 97\n"
     ]
    }
   ],
   "source": [
    "goldbach(100)"
   ]
  },
  {
   "cell_type": "code",
   "execution_count": 39,
   "metadata": {},
   "outputs": [
    {
     "name": "stdout",
     "output_type": "stream",
     "text": [
      "1755 não é um par maior que 3\n"
     ]
    }
   ],
   "source": [
    "goldbach(1755)"
   ]
  },
  {
   "cell_type": "markdown",
   "metadata": {},
   "source": [
    "# exercício 4"
   ]
  },
  {
   "cell_type": "markdown",
   "metadata": {},
   "source": [
    "Implemente uma função que tenha como argumento num natural $n>2$ e como retorno a lista dos números primos não superiores a $n$, fazendo uso do crivo de Eratóstenes.\n",
    "\n",
    "PASSO 1.\n",
    "\n",
    "$X=[3,5,...]$: inteiros ímpares entre $3$ e $n$.\n",
    "\n",
    "$P=[2]$\n",
    "         \n",
    "PASSO 2.\n",
    "\n",
    "$p$: primeiro elemento de $X$.\n",
    "\n",
    "Se $p>\\sqrt{n}$, juntar todos os elementos de $X$ a $P$ e terminar.\n",
    "\n",
    "Se $p\\not>\\sqrt{n}$, juntar $p$ a $P$.\n",
    "\n",
    "PASSO 3.\n",
    "\n",
    "$X=X\\setminus \\{m : p|m\\}$.\n",
    "\n",
    "Ir para PASSO 2."
   ]
  },
  {
   "cell_type": "code",
   "execution_count": 41,
   "metadata": {},
   "outputs": [
    {
     "data": {
      "text/plain": [
       "[2, 3, 5, 7, 11, 13, 17, 19, 23, 29, 31, 37, 41, 43, 47]"
      ]
     },
     "execution_count": 41,
     "metadata": {},
     "output_type": "execute_result"
    }
   ],
   "source": [
    "list(prime_range(50))"
   ]
  },
  {
   "cell_type": "code",
   "execution_count": 44,
   "metadata": {},
   "outputs": [],
   "source": [
    "def eratostenes(n):\n",
    "    \"\"\"lista dos primos não superiores a n\n",
    "    usando o Crivo de Eratóstenes\"\"\"\n",
    "    X=[m for m in range(3,n+1,2)]\n",
    "    P=[2]\n",
    "    while min(X)<=sqrt(n):\n",
    "        P.append(min(X))\n",
    "        X=[m for m in X if not mod(m,min(X))==0]\n",
    "    P+=X\n",
    "    return P"
   ]
  },
  {
   "cell_type": "code",
   "execution_count": 43,
   "metadata": {},
   "outputs": [
    {
     "data": {
      "text/plain": [
       "[2, 3, 5, 7, 11, 13, 17, 19, 23, 29, 31, 37, 41, 43, 47]"
      ]
     },
     "execution_count": 43,
     "metadata": {},
     "output_type": "execute_result"
    }
   ],
   "source": [
    "eratostenes(47)"
   ]
  },
  {
   "cell_type": "code",
   "execution_count": 45,
   "metadata": {},
   "outputs": [
    {
     "data": {
      "text/plain": [
       "[2, 3, 5, 7, 11, 13, 17, 19, 23, 29, 31, 37, 41, 43]"
      ]
     },
     "execution_count": 45,
     "metadata": {},
     "output_type": "execute_result"
    }
   ],
   "source": [
    "list(prime_range(47))"
   ]
  },
  {
   "cell_type": "markdown",
   "metadata": {},
   "source": [
    "## exercício 5"
   ]
  },
  {
   "cell_type": "markdown",
   "metadata": {},
   "source": [
    "Implemente uma função que teste a primalidade de um número à custa da divisão por tentativas."
   ]
  },
  {
   "cell_type": "markdown",
   "metadata": {},
   "source": [
    "Consiste em testar a divisibilidade de $n$ pelos primos que são menores ou iguais à parte inteira de $\\sqrt n$ -- dada por ${\\rm floor}({\\rm sqrt}(n))$\n",
    "\n",
    "Exemplo: $n=101$ é primo?\n",
    "\n",
    "$10<\\sqrt{101}<11$\n",
    "\n",
    "Basta testar a divisibilidade de $101$ apenas pelos primos menores ou iguais a $10$, ou seja, por $p$ em $\\{2,3,5,7\\}$"
   ]
  },
  {
   "cell_type": "code",
   "execution_count": 52,
   "metadata": {},
   "outputs": [],
   "source": [
    "def divisao_tent(n):\n",
    "    \"\"\"testa a primalidade de n por divisão por tentivas;\n",
    "    testa a divisibilidade de n pelos primos p tais que p é menor ou igual que raiz de n\"\"\"\n",
    "    if n==1:\n",
    "        return False\n",
    "    primo=True\n",
    "    upperbound=floor(sqrt(n))\n",
    "    p=2\n",
    "    while p<=upperbound and primo:\n",
    "        if n%p==0:\n",
    "            primo=False\n",
    "            #print(p,\"divide\",n)\n",
    "        p=next_prime(p)\n",
    "    return primo"
   ]
  },
  {
   "cell_type": "code",
   "execution_count": 53,
   "metadata": {},
   "outputs": [
    {
     "data": {
      "text/plain": [
       "True"
      ]
     },
     "execution_count": 53,
     "metadata": {},
     "output_type": "execute_result"
    }
   ],
   "source": [
    "divisao_tent(101)"
   ]
  },
  {
   "cell_type": "code",
   "execution_count": 54,
   "metadata": {},
   "outputs": [
    {
     "data": {
      "text/plain": [
       "False"
      ]
     },
     "execution_count": 54,
     "metadata": {},
     "output_type": "execute_result"
    }
   ],
   "source": [
    "divisao_tent(99)"
   ]
  },
  {
   "cell_type": "code",
   "execution_count": 55,
   "metadata": {},
   "outputs": [
    {
     "data": {
      "text/plain": [
       "False"
      ]
     },
     "execution_count": 55,
     "metadata": {},
     "output_type": "execute_result"
    }
   ],
   "source": [
    "divisao_tent(1)"
   ]
  },
  {
   "cell_type": "markdown",
   "metadata": {},
   "source": [
    "# exercício 6"
   ]
  },
  {
   "cell_type": "markdown",
   "metadata": {},
   "source": [
    "Implemente a função factorial modular sem recorrer à recursividade. Use-a para implementar o teste de primalidade de Wilson."
   ]
  },
  {
   "cell_type": "markdown",
   "metadata": {},
   "source": [
    "Teorema de Wilson: Um natural $p>1$ é primo se e só se $(p-1)!\\equiv -1\\ (\\!\\!\\mod p)$, ou equivalentemente, $(p-1)!\\equiv p-1\\ (\\!\\!\\mod p)$\n",
    "\n",
    "A função factorial modular calcula $k!$ módulo $n$"
   ]
  },
  {
   "cell_type": "code",
   "execution_count": 56,
   "metadata": {},
   "outputs": [],
   "source": [
    "def fact_mod(k,n):\n",
    "    if k==0 or k==1:\n",
    "        return 1\n",
    "    Zn=IntegerModRing(n)\n",
    "    fact=Zn(1)\n",
    "    for i in [2..k]:\n",
    "        fact=fact*i\n",
    "    return fact"
   ]
  },
  {
   "cell_type": "code",
   "execution_count": 57,
   "metadata": {},
   "outputs": [
    {
     "data": {
      "text/plain": [
       "10"
      ]
     },
     "execution_count": 57,
     "metadata": {},
     "output_type": "execute_result"
    }
   ],
   "source": [
    "fact_mod(10,11)     #11 é primo"
   ]
  },
  {
   "cell_type": "code",
   "execution_count": 58,
   "metadata": {},
   "outputs": [
    {
     "data": {
      "text/plain": [
       "0"
      ]
     },
     "execution_count": 58,
     "metadata": {},
     "output_type": "execute_result"
    }
   ],
   "source": [
    "fact_mod(11,12)   #12 não é primo"
   ]
  },
  {
   "cell_type": "code",
   "execution_count": 59,
   "metadata": {},
   "outputs": [],
   "source": [
    "def test_Wilson(p):\n",
    "    return fact_mod(p-1,p)==p-1"
   ]
  },
  {
   "cell_type": "code",
   "execution_count": 60,
   "metadata": {},
   "outputs": [
    {
     "data": {
      "text/plain": [
       "True"
      ]
     },
     "execution_count": 60,
     "metadata": {},
     "output_type": "execute_result"
    }
   ],
   "source": [
    "test_Wilson(11)"
   ]
  },
  {
   "cell_type": "code",
   "execution_count": 61,
   "metadata": {},
   "outputs": [
    {
     "data": {
      "text/plain": [
       "False"
      ]
     },
     "execution_count": 61,
     "metadata": {},
     "output_type": "execute_result"
    }
   ],
   "source": [
    "test_Wilson(12)"
   ]
  },
  {
   "cell_type": "markdown",
   "metadata": {},
   "source": [
    "# exercício 12"
   ]
  },
  {
   "cell_type": "markdown",
   "metadata": {},
   "source": [
    "Verifique que $(a,n)=1$ e determine $a^{-1}$, para"
   ]
  },
  {
   "cell_type": "markdown",
   "metadata": {},
   "source": [
    "### a) \n",
    "$a=77$; $n=100$."
   ]
  },
  {
   "cell_type": "code",
   "execution_count": 80,
   "metadata": {},
   "outputs": [],
   "source": [
    "n=100"
   ]
  },
  {
   "cell_type": "code",
   "execution_count": 81,
   "metadata": {},
   "outputs": [
    {
     "data": {
      "text/plain": [
       "Ring of integers modulo 100"
      ]
     },
     "execution_count": 81,
     "metadata": {},
     "output_type": "execute_result"
    }
   ],
   "source": [
    "Zn=IntegerModRing(n)\n",
    "Zn"
   ]
  },
  {
   "cell_type": "code",
   "execution_count": 82,
   "metadata": {
    "scrolled": true
   },
   "outputs": [
    {
     "data": {
      "text/plain": [
       "[1,\n",
       " 3,\n",
       " 7,\n",
       " 9,\n",
       " 11,\n",
       " 13,\n",
       " 17,\n",
       " 19,\n",
       " 21,\n",
       " 23,\n",
       " 27,\n",
       " 29,\n",
       " 31,\n",
       " 33,\n",
       " 37,\n",
       " 39,\n",
       " 41,\n",
       " 43,\n",
       " 47,\n",
       " 49,\n",
       " 51,\n",
       " 53,\n",
       " 57,\n",
       " 59,\n",
       " 61,\n",
       " 63,\n",
       " 67,\n",
       " 69,\n",
       " 71,\n",
       " 73,\n",
       " 77,\n",
       " 79,\n",
       " 81,\n",
       " 83,\n",
       " 87,\n",
       " 89,\n",
       " 91,\n",
       " 93,\n",
       " 97,\n",
       " 99]"
      ]
     },
     "execution_count": 82,
     "metadata": {},
     "output_type": "execute_result"
    }
   ],
   "source": [
    "unidades=[k for k in Zn if gcd(k,n)==1]\n",
    "unidades"
   ]
  },
  {
   "cell_type": "code",
   "execution_count": 83,
   "metadata": {},
   "outputs": [
    {
     "data": {
      "text/plain": [
       "1"
      ]
     },
     "execution_count": 83,
     "metadata": {},
     "output_type": "execute_result"
    }
   ],
   "source": [
    "a=77\n",
    "gcd(a,n)"
   ]
  },
  {
   "cell_type": "code",
   "execution_count": 84,
   "metadata": {},
   "outputs": [
    {
     "data": {
      "text/plain": [
       "1/77"
      ]
     },
     "execution_count": 84,
     "metadata": {},
     "output_type": "execute_result"
    }
   ],
   "source": [
    "a^(-1)    # calcula o inverso de a no anel dos reais"
   ]
  },
  {
   "cell_type": "code",
   "execution_count": 85,
   "metadata": {},
   "outputs": [
    {
     "data": {
      "text/plain": [
       "(1, 13, -10)"
      ]
     },
     "execution_count": 85,
     "metadata": {},
     "output_type": "execute_result"
    }
   ],
   "source": [
    "xgcd(a,n)"
   ]
  },
  {
   "cell_type": "markdown",
   "metadata": {},
   "source": [
    "## OBS.:\n",
    "${\\rm xgcd}(a,n)$ devolve um terno em que o primeiro elemento é ${\\rm mdc}(a,n)$, o segundo elemento é o inverso de $a\\ (\\!\\!\\!\\!\\mod n)$\n",
    "\n",
    "$1=13*a+(-10)*n$"
   ]
  },
  {
   "cell_type": "code",
   "execution_count": 86,
   "metadata": {},
   "outputs": [
    {
     "data": {
      "text/plain": [
       "True"
      ]
     },
     "execution_count": 86,
     "metadata": {},
     "output_type": "execute_result"
    }
   ],
   "source": [
    "1==13*a+(-10)*n"
   ]
  },
  {
   "cell_type": "markdown",
   "metadata": {},
   "source": [
    "## OBS.:\n",
    "Podemos concluir que $a^{-1}$ é 13 (inverso de $a$ módulo $n$)"
   ]
  },
  {
   "cell_type": "code",
   "execution_count": 87,
   "metadata": {},
   "outputs": [
    {
     "data": {
      "text/plain": [
       "13"
      ]
     },
     "execution_count": 87,
     "metadata": {},
     "output_type": "execute_result"
    }
   ],
   "source": [
    "a=Zn(77)\n",
    "a^(-1)     # ou 1/a"
   ]
  },
  {
   "cell_type": "markdown",
   "metadata": {},
   "source": [
    "### b)\n",
    "$a=121$, $n=224$"
   ]
  },
  {
   "cell_type": "code",
   "execution_count": 88,
   "metadata": {},
   "outputs": [
    {
     "data": {
      "text/plain": [
       "Ring of integers modulo 224"
      ]
     },
     "execution_count": 88,
     "metadata": {},
     "output_type": "execute_result"
    }
   ],
   "source": [
    "n=224\n",
    "Zn=IntegerModRing(n)\n",
    "Zn"
   ]
  },
  {
   "cell_type": "code",
   "execution_count": 89,
   "metadata": {},
   "outputs": [
    {
     "data": {
      "text/plain": [
       "(1, -87, 47)"
      ]
     },
     "execution_count": 89,
     "metadata": {},
     "output_type": "execute_result"
    }
   ],
   "source": [
    "a=121          # o inverso de a é -87 (módulo 224)\n",
    "xgcd(a,n)"
   ]
  },
  {
   "cell_type": "code",
   "execution_count": 91,
   "metadata": {},
   "outputs": [
    {
     "data": {
      "text/plain": [
       "137"
      ]
     },
     "execution_count": 91,
     "metadata": {},
     "output_type": "execute_result"
    }
   ],
   "source": [
    "a=Zn(121)\n",
    "a^(-1)        # o inverso de a é 137 (módulo 224)"
   ]
  },
  {
   "cell_type": "markdown",
   "metadata": {},
   "source": [
    "# exercício 13\n",
    "Use o algoritmo estendido de Euclides para encontrar $s,r\\in\\ZZ$ para os quais $(a,b)=as+br$, onde $a$ e $b$ são, respetivamente,"
   ]
  },
  {
   "cell_type": "markdown",
   "metadata": {},
   "source": [
    "### a)\n",
    "$43,33$"
   ]
  },
  {
   "cell_type": "code",
   "execution_count": 92,
   "metadata": {},
   "outputs": [],
   "source": [
    "a=43\n",
    "b=33"
   ]
  },
  {
   "cell_type": "code",
   "execution_count": 93,
   "metadata": {},
   "outputs": [
    {
     "data": {
      "text/plain": [
       "(1, 10, -13)"
      ]
     },
     "execution_count": 93,
     "metadata": {},
     "output_type": "execute_result"
    }
   ],
   "source": [
    "xgcd(a,b)          #   mdc(a,b)=a*s+b*r  &   xgcd(a,b)=(mdc(a,b),s,r)"
   ]
  },
  {
   "cell_type": "code",
   "execution_count": 94,
   "metadata": {},
   "outputs": [
    {
     "data": {
      "text/plain": [
       "1"
      ]
     },
     "execution_count": 94,
     "metadata": {},
     "output_type": "execute_result"
    }
   ],
   "source": [
    "gcd(a,b)"
   ]
  },
  {
   "cell_type": "markdown",
   "metadata": {},
   "source": [
    "$s=10$ e $r=-13$\n",
    "\n",
    "O primeiro elemento do terno é ${\\rm mdc}(a,b)$"
   ]
  },
  {
   "cell_type": "markdown",
   "metadata": {},
   "source": [
    "# exercício 14"
   ]
  },
  {
   "cell_type": "markdown",
   "metadata": {},
   "source": [
    "{exemplo de um domínio de integridade que não é um domínio de factorização única}\n",
    "\n",
    "\\begin{align*}\n",
    "R&=\\mathbb{Z}+i\\sqrt{5}\\mathbb{Z}\\\\\n",
    "&=\\{a+b\\sqrt{-5}:a,b\\in\\mathbb{Z}\\}\n",
    "\\end{align*}\n",
    "\n",
    "Dizemos que $p\\in R$ é primo se $$p=ab\\Rightarrow (a=\\pm 1\\vee b=\\pm 1).$$"
   ]
  },
  {
   "cell_type": "markdown",
   "metadata": {},
   "source": [
    "### a)"
   ]
  },
  {
   "cell_type": "markdown",
   "metadata": {},
   "source": [
    "É claro que $6=2\\times 3$ e que $6=(1+\\sqrt{-5})(1-\\sqrt{-5})$"
   ]
  },
  {
   "cell_type": "markdown",
   "metadata": {},
   "source": [
    "### b)"
   ]
  },
  {
   "cell_type": "markdown",
   "metadata": {},
   "source": [
    "### i)"
   ]
  },
  {
   "cell_type": "markdown",
   "metadata": {},
   "source": [
    "Considere a função norma em $R$, definida de $R$ em $\\mathbb{N}_0$, por \n",
    "$$N(a+b\\sqrt{-5})=a^2+5b^2$$\n",
    "\n",
    "Mostremos que $N$ é multiplicativa, ou seja, que $$N(\\alpha\\beta)=N(\\alpha)N(\\beta).$$\n",
    "\n",
    "Sejam $\\alpha=a+b\\sqrt{-5}$ e $\\beta=c+d\\sqrt{-5}$. Determinemos $N(\\alpha\\beta)$ e $N(\\alpha)N(\\beta)$."
   ]
  },
  {
   "cell_type": "code",
   "execution_count": 64,
   "metadata": {},
   "outputs": [
    {
     "data": {
      "text/plain": [
       "(a, b, c, d)"
      ]
     },
     "execution_count": 64,
     "metadata": {},
     "output_type": "execute_result"
    }
   ],
   "source": [
    "var('a b c d')"
   ]
  },
  {
   "cell_type": "code",
   "execution_count": 66,
   "metadata": {},
   "outputs": [
    {
     "data": {
      "text/html": [
       "<html><script type=\"math/tex; mode=display\">\\newcommand{\\Bold}[1]{\\mathbf{#1}}\\verb|alpha=| \\sqrt{-5} b + a</script></html>"
      ],
      "text/latex": [
       "\\begin{math}\n",
       "\\newcommand{\\Bold}[1]{\\mathbf{#1}}\\verb|alpha=| \\sqrt{-5} b + a\n",
       "\\end{math}"
      ],
      "text/plain": [
       "'alpha=' sqrt(-5)*b + a"
      ]
     },
     "metadata": {},
     "output_type": "display_data"
    },
    {
     "data": {
      "text/html": [
       "<html><script type=\"math/tex; mode=display\">\\newcommand{\\Bold}[1]{\\mathbf{#1}}\\verb|beta=| \\sqrt{-5} d + c</script></html>"
      ],
      "text/latex": [
       "\\begin{math}\n",
       "\\newcommand{\\Bold}[1]{\\mathbf{#1}}\\verb|beta=| \\sqrt{-5} d + c\n",
       "\\end{math}"
      ],
      "text/plain": [
       "'beta=' sqrt(-5)*d + c"
      ]
     },
     "metadata": {},
     "output_type": "display_data"
    }
   ],
   "source": [
    "alpha=a+b*sqrt(-5)\n",
    "beta=c+d*sqrt(-5)\n",
    "pretty_print(\"alpha=\", alpha)\n",
    "pretty_print(\"beta=\", beta)"
   ]
  },
  {
   "cell_type": "code",
   "execution_count": 67,
   "metadata": {},
   "outputs": [
    {
     "data": {
      "text/plain": [
       "sqrt(-5)*b*c + sqrt(-5)*a*d + a*c - 5*b*d"
      ]
     },
     "execution_count": 67,
     "metadata": {},
     "output_type": "execute_result"
    }
   ],
   "source": [
    "expand(alpha*beta)"
   ]
  },
  {
   "cell_type": "code",
   "execution_count": 68,
   "metadata": {},
   "outputs": [
    {
     "data": {
      "text/html": [
       "<html><script type=\"math/tex; mode=display\">\\newcommand{\\Bold}[1]{\\mathbf{#1}}\\verb|alpha*beta=| \\sqrt{-5} b c + \\sqrt{-5} a d + a c - 5 \\, b d</script></html>"
      ],
      "text/latex": [
       "\\begin{math}\n",
       "\\newcommand{\\Bold}[1]{\\mathbf{#1}}\\verb|alpha*beta=| \\sqrt{-5} b c + \\sqrt{-5} a d + a c - 5 \\, b d\n",
       "\\end{math}"
      ],
      "text/plain": [
       "'alpha*beta=' sqrt(-5)*b*c + sqrt(-5)*a*d + a*c - 5*b*d"
      ]
     },
     "metadata": {},
     "output_type": "display_data"
    }
   ],
   "source": [
    "pretty_print(\"alpha*beta=\",expand(alpha*beta))"
   ]
  },
  {
   "cell_type": "code",
   "execution_count": 69,
   "metadata": {},
   "outputs": [
    {
     "data": {
      "text/plain": [
       "a^2*c^2 + 5*b^2*c^2 + 5*a^2*d^2 + 25*b^2*d^2"
      ]
     },
     "execution_count": 69,
     "metadata": {},
     "output_type": "execute_result"
    }
   ],
   "source": [
    "expand((a*c-5*b*d)^2+5*(a*d+b*c)^2)"
   ]
  },
  {
   "cell_type": "code",
   "execution_count": 70,
   "metadata": {},
   "outputs": [
    {
     "data": {
      "text/html": [
       "<html><script type=\"math/tex; mode=display\">\\newcommand{\\Bold}[1]{\\mathbf{#1}}\\verb|N(alphabeta)=| a^{2} c^{2} + 5 \\, b^{2} c^{2} + 5 \\, a^{2} d^{2} + 25 \\, b^{2} d^{2}</script></html>"
      ],
      "text/latex": [
       "\\begin{math}\n",
       "\\newcommand{\\Bold}[1]{\\mathbf{#1}}\\verb|N(alphabeta)=| a^{2} c^{2} + 5 \\, b^{2} c^{2} + 5 \\, a^{2} d^{2} + 25 \\, b^{2} d^{2}\n",
       "\\end{math}"
      ],
      "text/plain": [
       "'N(alphabeta)=' a^2*c^2 + 5*b^2*c^2 + 5*a^2*d^2 + 25*b^2*d^2"
      ]
     },
     "metadata": {},
     "output_type": "display_data"
    }
   ],
   "source": [
    "Nalphabeta=pretty_print(\"N(alphabeta)=\",expand((a*c-5*b*d)^2+5*(a*d+b*c)^2))"
   ]
  },
  {
   "cell_type": "code",
   "execution_count": 71,
   "metadata": {},
   "outputs": [],
   "source": [
    "Nalpha=(a^2+5*b^2)\n",
    "Nbeta=(c^2+5*d^2)"
   ]
  },
  {
   "cell_type": "code",
   "execution_count": 72,
   "metadata": {},
   "outputs": [
    {
     "data": {
      "text/plain": [
       "a^2*c^2 + 5*b^2*c^2 + 5*a^2*d^2 + 25*b^2*d^2"
      ]
     },
     "execution_count": 72,
     "metadata": {},
     "output_type": "execute_result"
    }
   ],
   "source": [
    "expand(Nalpha*Nbeta)"
   ]
  },
  {
   "cell_type": "code",
   "execution_count": 73,
   "metadata": {},
   "outputs": [
    {
     "data": {
      "text/html": [
       "<html><script type=\"math/tex; mode=display\">\\newcommand{\\Bold}[1]{\\mathbf{#1}}\\verb|N(alpha)N(beta)=| a^{2} c^{2} + 5 \\, b^{2} c^{2} + 5 \\, a^{2} d^{2} + 25 \\, b^{2} d^{2}</script></html>"
      ],
      "text/latex": [
       "\\begin{math}\n",
       "\\newcommand{\\Bold}[1]{\\mathbf{#1}}\\verb|N(alpha)N(beta)=| a^{2} c^{2} + 5 \\, b^{2} c^{2} + 5 \\, a^{2} d^{2} + 25 \\, b^{2} d^{2}\n",
       "\\end{math}"
      ],
      "text/plain": [
       "'N(alpha)N(beta)=' a^2*c^2 + 5*b^2*c^2 + 5*a^2*d^2 + 25*b^2*d^2"
      ]
     },
     "metadata": {},
     "output_type": "display_data"
    }
   ],
   "source": [
    "pretty_print(\"N(alpha)N(beta)=\",expand(Nalpha*Nbeta))"
   ]
  },
  {
   "cell_type": "code",
   "execution_count": 74,
   "metadata": {},
   "outputs": [
    {
     "data": {
      "text/plain": [
       "0"
      ]
     },
     "execution_count": 74,
     "metadata": {},
     "output_type": "execute_result"
    }
   ],
   "source": [
    "expand((a*c-5*b*d)^2+5*(a*d+b*c)^2-Nalpha*Nbeta)"
   ]
  },
  {
   "cell_type": "markdown",
   "metadata": {},
   "source": [
    "### ii)"
   ]
  },
  {
   "cell_type": "markdown",
   "metadata": {},
   "source": [
    "Comecemos por observar que $N(\\alpha)=1$ se e só se $\\alpha=\\pm 1$, para todo $\\alpha\\in R$.\n",
    "\n",
    "De facto, se $\\alpha=a+b\\sqrt{-5}$, com $a,b\\in\\mathbb{Z}$, temos que $$N(\\alpha)=1\\iff a^2+5b^2=1.$$\n",
    "\n",
    "Dado que $a,b\\in\\mathbb{Z}$,\n",
    "\n",
    "\\begin{align*}N(\\alpha)=1&\\iff a^2+5b^2=1\\\\\n",
    "&\\iff a^2=1\\ \\ {\\rm e}\\ \\ b^2=0\\\\\n",
    "&\\iff a=\\pm 1\\ \\ {\\rm e }\\ \\ b=0\\\\\n",
    "&\\iff \\alpha=\\pm 1\n",
    "\\end{align*}"
   ]
  },
  {
   "cell_type": "markdown",
   "metadata": {},
   "source": [
    "Mostremos, agora, que $2$ é primo em $R$.\n",
    "\n",
    "Para tal, suponhamos que $2$ não é primo em $R$. Então, existem $\\alpha,\\beta\\in R$ tais que $2=\\alpha\\beta$ e $\\alpha,\\beta\\neq \\pm 1$.\n",
    "\n",
    "Sejam $a,b,c,d\\in\\mathbb{Z}$ tais que $$\\alpha=a+b\\sqrt{-5}$$ e $$\\beta=c+d\\sqrt{-5}.$$\n",
    "\n",
    "Temos que $N(2)=N(\\alpha\\beta)$, ou seja, $4=N(\\alpha)N(\\beta)$.\n",
    "\n",
    "Ora, $N(\\alpha),N(\\beta)$ são inteiros não negativos.\n",
    "\n",
    "Como $\\alpha,\\beta\\neq\\pm 1$, sabemos que $N(\\alpha),N(\\beta)\\neq 1$. Portanto, $$N(\\alpha)=N(\\beta)=2.$$\n",
    "\n",
    "Ora,\n",
    "\n",
    "\\begin{align*}N(\\alpha)=2&\\iff a^2+5b^2=2\\\\\n",
    "&\\iff a^2=2\\ \\ {\\rm e}\\ \\ b^2=0\\\\\n",
    "&\\iff a=\\pm \\sqrt{2}\\ \\ {\\rm e }\\ \\ b=0,\n",
    "\\end{align*}\n",
    "\n",
    "o que contradiz $a\\in \\mathbb{Z}$.\n",
    "\n",
    "Assim, $2$ é primo em $R$."
   ]
  },
  {
   "cell_type": "markdown",
   "metadata": {},
   "source": [
    "Provar que $3$, $1+\\sqrt{-5}$ e $1-\\sqrt{-5}$ são primos em $R$ é análogo.\n",
    "\n",
    "Vejamos, apenas, que $1+\\sqrt{-5}$ é, de facto, primo em $R$.\n",
    "\n",
    "Suponhamos que existem $\\alpha,\\beta\\in R$ tais que $1+\\sqrt{-5}=\\alpha\\beta$ e $\\alpha,\\beta\\neq \\pm 1$.\n",
    "\n",
    "Sejam $a,b,c,d\\in\\mathbb{Z}$ tais que $$\\alpha=a+b\\sqrt{-5}$$ e $$\\beta=c+d\\sqrt{-5}.$$\n",
    "\n",
    "Temos que $N(1+\\sqrt{-5})=N(\\alpha\\beta)$, ou seja, $1^2+5\\times 1^2=6=N(\\alpha)N(\\beta)$.\n",
    "\n",
    "Ora, $N(\\alpha),N(\\beta)$ são inteiros não negativos.\n",
    "\n",
    "Como $\\alpha,\\beta\\neq\\pm 1$, sabemos que $N(\\alpha),N(\\beta)\\neq 1$. Portanto, $$N(\\alpha)=2\\ \\ {\\rm e}\\ \\ N(\\beta)=3$$ ou $$N(\\alpha)=3\\ \\ {\\rm e}\\ \\ N(\\beta)=2.$$ Assim,\n",
    "\n",
    "$$\\left\\{\n",
    "\\begin{array}{l}\n",
    "a^2=2\\\\\n",
    "b=0\\end{array}\\right.\\ \\ \\ {\\rm e}\\ \\ \\ \\ \\left\\{\n",
    "\\begin{array}{l}\n",
    "c^2=3\\\\\n",
    "b=0\\end{array}\\right.$$\n",
    "ou\n",
    "$$\\left\\{\n",
    "\\begin{array}{l}\n",
    "a^2=3\\\\\n",
    "b=0\\end{array}\\right.\\ \\ \\ {\\rm e}\\ \\ \\ \\ \\left\\{\n",
    "\\begin{array}{l}\n",
    "c^2=2\\\\\n",
    "d=0\\end{array}\\right.$$\n",
    "o que contradiz $a,c\\in \\mathbb{Z}$.\n",
    "\n",
    "Assim, $1+\\sqrt{-5}$ é primo em $R$."
   ]
  },
  {
   "cell_type": "markdown",
   "metadata": {},
   "source": [
    "# exercício 15"
   ]
  },
  {
   "cell_type": "markdown",
   "metadata": {},
   "source": [
    "Pretende-se determinar\n",
    "$$\\displaystyle\\frac{\\pi(x)}{\\frac{x}{log(x)}} \\displaystyle\\rightarrow_{x \\rightarrow +\\infty} 1.$$\n",
    "para alguns valores de x.\\\n",
    "Use a funcao numerical_approx."
   ]
  },
  {
   "cell_type": "code",
   "execution_count": 76,
   "metadata": {},
   "outputs": [],
   "source": [
    "numerical_approx?"
   ]
  },
  {
   "cell_type": "code",
   "execution_count": 77,
   "metadata": {},
   "outputs": [],
   "source": [
    "def frac(x):\n",
    "    return numerical_approx(prime_pi(x)/(x/log(x)))"
   ]
  },
  {
   "cell_type": "code",
   "execution_count": 78,
   "metadata": {},
   "outputs": [
    {
     "data": {
      "text/plain": [
       "0.921034037197618"
      ]
     },
     "execution_count": 78,
     "metadata": {},
     "output_type": "execute_result"
    }
   ],
   "source": [
    "frac(10)"
   ]
  },
  {
   "cell_type": "code",
   "execution_count": 79,
   "metadata": {},
   "outputs": [
    {
     "data": {
      "text/plain": [
       "1.16050288686900"
      ]
     },
     "execution_count": 79,
     "metadata": {},
     "output_type": "execute_result"
    }
   ],
   "source": [
    "frac(1000)"
   ]
  },
  {
   "cell_type": "markdown",
   "metadata": {},
   "source": [
    "# exercício 16\n",
    "construa uma função que calcule os primeiros n termos da sucessão de Fibonacci\n",
    "\n",
    "$f_1=1$, $f_2=1$, $f_{n}=f_{n-2}+f_{n-1}$ para $n\\geq 3$"
   ]
  },
  {
   "cell_type": "code",
   "execution_count": 96,
   "metadata": {},
   "outputs": [],
   "source": [
    "def ntermos_fibonacci(n):\n",
    "    L=[]\n",
    "    if n<3:\n",
    "        for i in range(1,n+1):\n",
    "            L.append(1)\n",
    "        return L\n",
    "    L=[1,1]\n",
    "    i=3\n",
    "    while i<=n:\n",
    "        L.append(L[i-3]+L[i-2])\n",
    "        i+=1\n",
    "    return L"
   ]
  },
  {
   "cell_type": "code",
   "execution_count": 97,
   "metadata": {},
   "outputs": [
    {
     "data": {
      "text/plain": [
       "[1, 1, 2, 3, 5, 8, 13, 21, 34, 55]"
      ]
     },
     "execution_count": 97,
     "metadata": {},
     "output_type": "execute_result"
    }
   ],
   "source": [
    "ntermos_fibonacci(10)"
   ]
  }
 ],
 "metadata": {
  "kernelspec": {
   "display_name": "SageMath 9.2",
   "language": "sage",
   "name": "sagemath"
  },
  "language_info": {
   "codemirror_mode": {
    "name": "ipython",
    "version": 3
   },
   "file_extension": ".py",
   "mimetype": "text/x-python",
   "name": "python",
   "nbconvert_exporter": "python",
   "pygments_lexer": "ipython3",
   "version": "3.7.7"
  }
 },
 "nbformat": 4,
 "nbformat_minor": 4
}
