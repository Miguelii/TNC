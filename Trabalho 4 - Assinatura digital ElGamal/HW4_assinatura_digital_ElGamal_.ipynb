{
 "cells": [
  {
   "cell_type": "markdown",
   "metadata": {},
   "source": [
    "## HW4: Assinatura Digital ElGamal\n",
    "\n",
    "\n",
    "\n",
    ">### Grupo: \n",
    ">>André Araújo A87987\n",
    "\\\n",
    ">>Miguel Gonçalves A90416\n",
    "\\\n",
    ">>Paulo Costa A87986"
   ]
  },
  {
   "cell_type": "markdown",
   "metadata": {},
   "source": [
    ">9.2 ElGamal Signature Scheme\n",
    ">>O esquema de assinatura ElGamal requer uma codificação da mensagem m como um elemento de Z/(p − 1)Z. \\\n",
    "\\\n",
    ">>*Gerar as Chaves*. \\\n",
    "Este passo é igual à encriptação de ElGamal. Quem assina a mensagem gera uma public key (p, a, c), onde $c = a^x mod p$, e guarda a private key (p, a, x), onde a é um elemento de Z/pZ e x é um inteiro no intervalo 1 ≤ x < p − 1 com GCD(x, p − 1) = 1.  \\\n",
    "\\\n",
    ">>*Gerar a assinatura*. \\\n",
    "Quem assina a mensagem escolhe um inteiro secreto aleatório k entre 1 ≤ k < p − 1 com GCD(k, p − 1) = 1, e calcula $r = a^k$ (mod p) e s = l(m − rx) mod (p − 1), onde $l = k^−1$ mod (p − 1)\n",
    "e a assinatura (r,s) é o output. \n",
    "De notar que r é bem definido em Z/pZ, mas para formar s é necessário escolher um mínimo representante inteiro positivo e reinterpretar como mod(p − 1). \\\n",
    "\\\n",
    ">>*Verificação*. A assinatura é verificada primeiro se 1 ≤ r ≤ p − 1, ou rejeitada. Os próximos valores calculados são $v1 = c^r*r^s$ mod p e $v2 = a^m$ mod p, e a igualdade v1 = v2 é verificada ou a assinatura rejeitada.\n",
    "Prova de igualdade: $v1 = c^ra^{kl(m−xr)} = a^{xr}a^{m−xr} = a^m = v2$."
   ]
  },
  {
   "cell_type": "code",
   "execution_count": 1,
   "metadata": {},
   "outputs": [],
   "source": [
    "def chave_El_Gamal(nbits): #cria as chaves publica e privada para o esquema de El Gamal\n",
    "    p=random_prime(2^(nbits//2),2^(nbits//2-1))\n",
    "    a=primitive_root(p)\n",
    "    x=randint(1,p)\n",
    "    c=power_mod(a,x,p)\n",
    "    return (p,a,c),(p,a,x)"
   ]
  },
  {
   "cell_type": "code",
   "execution_count": 2,
   "metadata": {},
   "outputs": [
    {
     "data": {
      "text/plain": [
       "(1053231525154739624380521416131358648451610532924155340343720823540746836827117931048739713,\n",
       " 3,\n",
       " 1015979913825431738557454610109612283972738702757672072890777303909168400445064950021438384)"
      ]
     },
     "execution_count": 2,
     "metadata": {},
     "output_type": "execute_result"
    }
   ],
   "source": [
    "PubKey,PrivKey=chave_El_Gamal(600)\n",
    "PubKey"
   ]
  },
  {
   "cell_type": "code",
   "execution_count": 3,
   "metadata": {},
   "outputs": [
    {
     "data": {
      "text/plain": [
       "(1053231525154739624380521416131358648451610532924155340343720823540746836827117931048739713,\n",
       " 3,\n",
       " 25773726139940528198982249062791545096531884671853384896021591630280468488029839693530552)"
      ]
     },
     "execution_count": 3,
     "metadata": {},
     "output_type": "execute_result"
    }
   ],
   "source": [
    "PrivKey"
   ]
  },
  {
   "cell_type": "code",
   "execution_count": 4,
   "metadata": {},
   "outputs": [],
   "source": [
    "def assina(m,PrivKey):# funçao que assina a mensagem utilizando as chaves de El gamal\n",
    "    p,a,x=PrivKey\n",
    "    n=p-1\n",
    "    k=randint(1,p)\n",
    "    zn=IntegerModRing(p-1)\n",
    "    while gcd(k,p-1)!=1:\n",
    "        k=randint(1,p)\n",
    "    r=power_mod(a,k,p)\n",
    "    l=power_mod(k,-1,p-1)\n",
    "    s=zn(l*(m-r*x))\n",
    "    return m,r,s"
   ]
  },
  {
   "cell_type": "code",
   "execution_count": 8,
   "metadata": {},
   "outputs": [],
   "source": [
    "def verifica(ma,PubKey):# funçao que verifica a assinatura\n",
    "    p,a,c=PubKey\n",
    "    m,r,s=ma\n",
    "    if not(1<=r and r <=p-1):\n",
    "        print('erro')\n",
    "        return\n",
    "    zp=IntegerModRing(p)\n",
    "    #zp(c^r) erro overflow alterei aqui\n",
    "    c=power_mod(c,r,p)\n",
    "    r=power_mod(r,int(s),p)\n",
    "    v1=zp(c*r)\n",
    "    v2=power_mod(a,m,p)\n",
    "    return v1==v2"
   ]
  },
  {
   "cell_type": "code",
   "execution_count": 9,
   "metadata": {},
   "outputs": [
    {
     "data": {
      "text/plain": [
       "(1234,\n",
       " 996459243883038159382808892070657201633240334895362414254882022020078967966401980461257890,\n",
       " 345272891211343701369158166968179732865319318532671447430524358348375144865424933353836118)"
      ]
     },
     "execution_count": 9,
     "metadata": {},
     "output_type": "execute_result"
    }
   ],
   "source": [
    "m=1234\n",
    "ma=assina(m,PrivKey)\n",
    "ma"
   ]
  },
  {
   "cell_type": "code",
   "execution_count": 10,
   "metadata": {},
   "outputs": [
    {
     "data": {
      "text/plain": [
       "True"
      ]
     },
     "execution_count": 10,
     "metadata": {},
     "output_type": "execute_result"
    }
   ],
   "source": [
    "verifica(ma,PubKey)"
   ]
  },
  {
   "cell_type": "code",
   "execution_count": 14,
   "metadata": {},
   "outputs": [],
   "source": [
    "import hashlib   \n",
    "def assinaHash(m,PrivKey):# funçao que assina a mensagem utilizando as chaves de El gamal com uma funçao de hash\n",
    "    p,a,x=PrivKey\n",
    "    n=p-1\n",
    "    s=0\n",
    "    while s==0:\n",
    "        k=randint(1,p)\n",
    "        zn=IntegerModRing(p-1)\n",
    "        while gcd(k,p-1)!=1:\n",
    "            k=randint(1,p)\n",
    "        r=power_mod(a,k,p)\n",
    "        HH =hashlib.sha256(m.encode('utf-8')).hexdigest()\n",
    "        hm=ZZ('0x'+HH)\n",
    "        l=power_mod(k,-1,p-1)\n",
    "        s=zn(l*(hm-r*x))\n",
    "    return m,r,s"
   ]
  },
  {
   "cell_type": "code",
   "execution_count": 15,
   "metadata": {},
   "outputs": [],
   "source": [
    "def verificaHash(ma,PubKey):# funçao que verifica a assinatura com uma funçao de hash\n",
    "    p,a,c=PubKey\n",
    "    m,r,s=ma\n",
    "    HH =hashlib.sha256(m.encode('utf-8')).hexdigest()\n",
    "    hm=ZZ('0x'+HH)\n",
    "    if not(1<=r and r <=p-1 and 1<=s and s<=p-2):\n",
    "        print('erro')\n",
    "        return\n",
    "    zp=IntegerModRing(p)\n",
    "    #zp(c^r) erro overflow alterei aqui\n",
    "    c=power_mod(c,r,p)\n",
    "    r=power_mod(r,int(s),p)\n",
    "    v1=zp(c*r)\n",
    "    v2=power_mod(a,hm,p)\n",
    "    return v1==v2"
   ]
  },
  {
   "cell_type": "code",
   "execution_count": 16,
   "metadata": {},
   "outputs": [
    {
     "data": {
      "text/plain": [
       "('ola mundo',\n",
       " 766072055491175364149924848561699953090722402410718696628857110095362066048090669169560434,\n",
       " 221241984595568398704906597372533304891312932360733667228399407642225053555136737561618521)"
      ]
     },
     "execution_count": 16,
     "metadata": {},
     "output_type": "execute_result"
    }
   ],
   "source": [
    "mh='ola mundo'\n",
    "ma=assinaHash(mh,PrivKey)\n",
    "ma"
   ]
  },
  {
   "cell_type": "code",
   "execution_count": 17,
   "metadata": {},
   "outputs": [
    {
     "data": {
      "text/plain": [
       "True"
      ]
     },
     "execution_count": 17,
     "metadata": {},
     "output_type": "execute_result"
    }
   ],
   "source": [
    "verificaHash(ma,PubKey)"
   ]
  },
  {
   "cell_type": "markdown",
   "metadata": {},
   "source": [
    "## Conclusão:"
   ]
  },
  {
   "cell_type": "markdown",
   "metadata": {},
   "source": [
    ">Em estilo de conclusão, achamos que os objetivos do exercício foram alcançados. Isto, pois conseguimos implementar a assinatura digital pretendida.\n",
    "\\\n",
    "\\\n",
    ">Esperemos que os professores também achem o mesmo e assim, damos como concluído o quarto e último trabalho relativo à UC **Teoria de Números Computacional**.\n",
    "\n",
    "\n",
    "\n"
   ]
  }
 ],
 "metadata": {
  "kernelspec": {
   "display_name": "SageMath 9.2",
   "language": "sage",
   "name": "sagemath"
  },
  "language_info": {
   "codemirror_mode": {
    "name": "ipython",
    "version": 3
   },
   "file_extension": ".py",
   "mimetype": "text/x-python",
   "name": "python",
   "nbconvert_exporter": "python",
   "pygments_lexer": "ipython3",
   "version": "3.7.7"
  }
 },
 "nbformat": 4,
 "nbformat_minor": 4
}
